from version2 import record
from make import extract
import Filter
from newenroll import enroll_
from enroll import enroll
import os
from verifying import verifi
from identification_ import identi
from enrolling2 import identi_,enrolled
from record_for_enroll import record_
from extract_for_enroll import extract_
import time


def select_menu():
    print("1.등록 2.TEST\n")
    while(1):
        a=int(input())
        if((a==1)or(a==2)):
            break
        else:
            print("다시입력해주세요!!")
    return a
def select_menu_2():
    print("1.identification 2.verification\n")
    while(1):
        a=int(input())
        if((a==1)or(a==2)):
            break
        else:
            print("다시입력해주세요!!")
    return a
def printmanual():
    print("1.저는 OOO 입니다.(자신의 이름)\n2.오늘은 O월 OO일입니다.(날짜)\n3.저는 OO살입니다.(자신의 나이)\n4.저는 OO에 삽니다.(동네 이름)\n5.저는 OO입니다(성별)")
    return 0
class identification__():
    def __init__(self,peoples):
        name="voice"
        test_spk=name
        purpose=["test","enroll"]
        dir_="C:\\Users\\user\\SpeakerRecognition_tutorial_\\feat_logfbank_nfilt40\\test"
        dir=os.path.join(dir_,test_spk)
        dir__=os.path.join(dir,'enroll.wav')
        dir___=os.path.join(dir,'test.wav')
        i=0
        print(dir)
        try:
            if not(os.path.isdir(dir)):
                os.makedirs(os.path.join(dir))
        except OSError as e:
            if e.errno != errno.EEXIST:
                print("Failed to create direcotry!!!")
                raise
        
        while(True):
            record(test_spk,purpose[i])
            extract(test_spk,purpose[i])
            i+=1
            if (i==2):
                break
        enroll()
        identi(peoples,test_spk)

        
class enrolling():
    def __init__(self,peoples,new):
        if(new=="Y"):
            name_=input("이름은 무엇입니까?")
            if(name_ not in peoples):
                peoples.append(name_)
            print(peoples)
        else:
            answer=input("기존에 등록되어있으신가요?")
            if(answer=="Y"):
                name_="voice"
                identi_(name_)
                return
            else:
                return 

        test_spk=name_
        purpose=["test","enroll"]
        dir_="C:\\Users\\user\\SpeakerRecognition_tutorial_\\feat_logfbank_nfilt40\\enrolled"
        dir=os.path.join(dir_,test_spk)
        dir__=os.path.join(dir,'enroll.wav')
        dir___=os.path.join(dir,'test.wav')
        i=0
        print(dir)
        try:
            if not(os.path.isdir(dir)):
                os.makedirs(os.path.join(dir))
        except OSError as e:
            if e.errno != errno.EEXIST:
                print("Failed to create direcotry!!!")
                raise
        num_=0
        files=os.listdir(dir)

        for a in files:
            if((not ".p" in a)and(not ".wav" in a)):
                num_+=1
        filenames=test_spk+str(num_)
        dir____=os.path.join(dir,filenames)
        try:
            if not(os.path.isdir(dir____)):
                os.makedirs(os.path.join(dir____))
        except OSError as e:
            if e.errno != errno.EEXIST:
                print("Failed to create direcotry!!!")
                raise
    
        while(True):
            printmanual()
            time.sleep(3)
            record_(test_spk,filenames,purpose[i])
            extract_(test_spk,filenames,purpose[i])
            i+=1
            if (i==2):
                break
        enroll_()
class verifying():
    def __init__(self,peoples,who):
        file_name="voice"
        while(1):
            if(who not in peoples):
                print("다시 입력하시오")
            else:
                break
        dir_="C:\\Users\\user\\SpeakerRecognition_tutorial_\\feat_logfbank_nfilt40\\test"
        purpose=["test","enroll"]
        dir=os.path.join(dir_,file_name)
        dir__=os.path.join(dir,'enroll.wav')
        dir___=os.path.join(dir,'test.wav')
        i=0

        try: 
            if not(os.path.isdir(dir)):
                os.makedirs(os.path.join(dir))
        except OSError as e:
            if e.errno != errno.EXIST:
                print("Failed to create direcotry!!!")
                raise
        while(True):
            record(file_name,purpose[i])
            extract(file_name,purpose[i])
            i+=1
            if (i==2):
                break
        enroll()
        verifi(peoples,who,file_name)
if __name__ == '__main__':
    peoples=["sungho","byoungsun","minbum","minho","jeongheon","minseo","donghyun"]
    if(select_menu()==1):
        print("right!!")
        a=input("(처음 사용하시거나, 추가등록을 하고싶으면 Y ,수정을 원하면 아무키나 입력해주세요")
        enrolling(peoples,a)
        print(peoples)
    else:
        if(select_menu_2()==1):
            identification__(peoples)
        else:
            whom=input("누구인지 검증할려고합니까?")
            verifying(peoples,whom)




